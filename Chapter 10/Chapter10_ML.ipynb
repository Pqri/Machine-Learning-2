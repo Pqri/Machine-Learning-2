{
 "cells": [
  {
   "cell_type": "code",
   "execution_count": 1,
   "id": "d6dae577-d57d-4e8d-87c8-39b5fd63ae35",
   "metadata": {},
   "outputs": [
    {
     "name": "stderr",
     "output_type": "stream",
     "text": [
      "<>:190: SyntaxWarning: invalid escape sequence '\\l'\n",
      "<>:190: SyntaxWarning: invalid escape sequence '\\l'\n",
      "C:\\Users\\raehu\\AppData\\Local\\Temp\\ipykernel_10160\\2986322172.py:190: SyntaxWarning: invalid escape sequence '\\l'\n",
      "  \"\"\"\n"
     ]
    },
    {
     "name": "stdout",
     "output_type": "stream",
     "text": [
      "Versi TensorFlow: 2.19.0\n",
      "Versi Keras: 3.10.0\n",
      "Downloading data from https://storage.googleapis.com/tensorflow/tf-keras-datasets/train-labels-idx1-ubyte.gz\n",
      "\u001b[1m29515/29515\u001b[0m \u001b[32m━━━━━━━━━━━━━━━━━━━━\u001b[0m\u001b[37m\u001b[0m \u001b[1m0s\u001b[0m 8us/step \n",
      "Downloading data from https://storage.googleapis.com/tensorflow/tf-keras-datasets/train-images-idx3-ubyte.gz\n",
      "\u001b[1m26421880/26421880\u001b[0m \u001b[32m━━━━━━━━━━━━━━━━━━━━\u001b[0m\u001b[37m\u001b[0m \u001b[1m18s\u001b[0m 1us/step\n",
      "Downloading data from https://storage.googleapis.com/tensorflow/tf-keras-datasets/t10k-labels-idx1-ubyte.gz\n",
      "\u001b[1m5148/5148\u001b[0m \u001b[32m━━━━━━━━━━━━━━━━━━━━\u001b[0m\u001b[37m\u001b[0m \u001b[1m0s\u001b[0m 0us/step\n",
      "Downloading data from https://storage.googleapis.com/tensorflow/tf-keras-datasets/t10k-images-idx3-ubyte.gz\n",
      "\u001b[1m4422102/4422102\u001b[0m \u001b[32m━━━━━━━━━━━━━━━━━━━━\u001b[0m\u001b[37m\u001b[0m \u001b[1m3s\u001b[0m 1us/step\n"
     ]
    },
    {
     "name": "stderr",
     "output_type": "stream",
     "text": [
      "C:\\Users\\raehu\\anaconda3\\Lib\\site-packages\\keras\\src\\layers\\reshaping\\flatten.py:37: UserWarning: Do not pass an `input_shape`/`input_dim` argument to a layer. When using Sequential models, prefer using an `Input(shape)` object as the first layer in the model instead.\n",
      "  super().__init__(**kwargs)\n"
     ]
    },
    {
     "data": {
      "text/html": [
       "<pre style=\"white-space:pre;overflow-x:auto;line-height:normal;font-family:Menlo,'DejaVu Sans Mono',consolas,'Courier New',monospace\"><span style=\"font-weight: bold\">Model: \"sequential\"</span>\n",
       "</pre>\n"
      ],
      "text/plain": [
       "\u001b[1mModel: \"sequential\"\u001b[0m\n"
      ]
     },
     "metadata": {},
     "output_type": "display_data"
    },
    {
     "data": {
      "text/html": [
       "<pre style=\"white-space:pre;overflow-x:auto;line-height:normal;font-family:Menlo,'DejaVu Sans Mono',consolas,'Courier New',monospace\">┏━━━━━━━━━━━━━━━━━━━━━━━━━━━━━━━━━━━━━━┳━━━━━━━━━━━━━━━━━━━━━━━━━━━━━┳━━━━━━━━━━━━━━━━━┓\n",
       "┃<span style=\"font-weight: bold\"> Layer (type)                         </span>┃<span style=\"font-weight: bold\"> Output Shape                </span>┃<span style=\"font-weight: bold\">         Param # </span>┃\n",
       "┡━━━━━━━━━━━━━━━━━━━━━━━━━━━━━━━━━━━━━━╇━━━━━━━━━━━━━━━━━━━━━━━━━━━━━╇━━━━━━━━━━━━━━━━━┩\n",
       "│ flatten (<span style=\"color: #0087ff; text-decoration-color: #0087ff\">Flatten</span>)                    │ (<span style=\"color: #00d7ff; text-decoration-color: #00d7ff\">None</span>, <span style=\"color: #00af00; text-decoration-color: #00af00\">784</span>)                 │               <span style=\"color: #00af00; text-decoration-color: #00af00\">0</span> │\n",
       "├──────────────────────────────────────┼─────────────────────────────┼─────────────────┤\n",
       "│ dense (<span style=\"color: #0087ff; text-decoration-color: #0087ff\">Dense</span>)                        │ (<span style=\"color: #00d7ff; text-decoration-color: #00d7ff\">None</span>, <span style=\"color: #00af00; text-decoration-color: #00af00\">300</span>)                 │         <span style=\"color: #00af00; text-decoration-color: #00af00\">235,500</span> │\n",
       "├──────────────────────────────────────┼─────────────────────────────┼─────────────────┤\n",
       "│ dense_1 (<span style=\"color: #0087ff; text-decoration-color: #0087ff\">Dense</span>)                      │ (<span style=\"color: #00d7ff; text-decoration-color: #00d7ff\">None</span>, <span style=\"color: #00af00; text-decoration-color: #00af00\">100</span>)                 │          <span style=\"color: #00af00; text-decoration-color: #00af00\">30,100</span> │\n",
       "├──────────────────────────────────────┼─────────────────────────────┼─────────────────┤\n",
       "│ dense_2 (<span style=\"color: #0087ff; text-decoration-color: #0087ff\">Dense</span>)                      │ (<span style=\"color: #00d7ff; text-decoration-color: #00d7ff\">None</span>, <span style=\"color: #00af00; text-decoration-color: #00af00\">10</span>)                  │           <span style=\"color: #00af00; text-decoration-color: #00af00\">1,010</span> │\n",
       "└──────────────────────────────────────┴─────────────────────────────┴─────────────────┘\n",
       "</pre>\n"
      ],
      "text/plain": [
       "┏━━━━━━━━━━━━━━━━━━━━━━━━━━━━━━━━━━━━━━┳━━━━━━━━━━━━━━━━━━━━━━━━━━━━━┳━━━━━━━━━━━━━━━━━┓\n",
       "┃\u001b[1m \u001b[0m\u001b[1mLayer (type)                        \u001b[0m\u001b[1m \u001b[0m┃\u001b[1m \u001b[0m\u001b[1mOutput Shape               \u001b[0m\u001b[1m \u001b[0m┃\u001b[1m \u001b[0m\u001b[1m        Param #\u001b[0m\u001b[1m \u001b[0m┃\n",
       "┡━━━━━━━━━━━━━━━━━━━━━━━━━━━━━━━━━━━━━━╇━━━━━━━━━━━━━━━━━━━━━━━━━━━━━╇━━━━━━━━━━━━━━━━━┩\n",
       "│ flatten (\u001b[38;5;33mFlatten\u001b[0m)                    │ (\u001b[38;5;45mNone\u001b[0m, \u001b[38;5;34m784\u001b[0m)                 │               \u001b[38;5;34m0\u001b[0m │\n",
       "├──────────────────────────────────────┼─────────────────────────────┼─────────────────┤\n",
       "│ dense (\u001b[38;5;33mDense\u001b[0m)                        │ (\u001b[38;5;45mNone\u001b[0m, \u001b[38;5;34m300\u001b[0m)                 │         \u001b[38;5;34m235,500\u001b[0m │\n",
       "├──────────────────────────────────────┼─────────────────────────────┼─────────────────┤\n",
       "│ dense_1 (\u001b[38;5;33mDense\u001b[0m)                      │ (\u001b[38;5;45mNone\u001b[0m, \u001b[38;5;34m100\u001b[0m)                 │          \u001b[38;5;34m30,100\u001b[0m │\n",
       "├──────────────────────────────────────┼─────────────────────────────┼─────────────────┤\n",
       "│ dense_2 (\u001b[38;5;33mDense\u001b[0m)                      │ (\u001b[38;5;45mNone\u001b[0m, \u001b[38;5;34m10\u001b[0m)                  │           \u001b[38;5;34m1,010\u001b[0m │\n",
       "└──────────────────────────────────────┴─────────────────────────────┴─────────────────┘\n"
      ]
     },
     "metadata": {},
     "output_type": "display_data"
    },
    {
     "data": {
      "text/html": [
       "<pre style=\"white-space:pre;overflow-x:auto;line-height:normal;font-family:Menlo,'DejaVu Sans Mono',consolas,'Courier New',monospace\"><span style=\"font-weight: bold\"> Total params: </span><span style=\"color: #00af00; text-decoration-color: #00af00\">266,610</span> (1.02 MB)\n",
       "</pre>\n"
      ],
      "text/plain": [
       "\u001b[1m Total params: \u001b[0m\u001b[38;5;34m266,610\u001b[0m (1.02 MB)\n"
      ]
     },
     "metadata": {},
     "output_type": "display_data"
    },
    {
     "data": {
      "text/html": [
       "<pre style=\"white-space:pre;overflow-x:auto;line-height:normal;font-family:Menlo,'DejaVu Sans Mono',consolas,'Courier New',monospace\"><span style=\"font-weight: bold\"> Trainable params: </span><span style=\"color: #00af00; text-decoration-color: #00af00\">266,610</span> (1.02 MB)\n",
       "</pre>\n"
      ],
      "text/plain": [
       "\u001b[1m Trainable params: \u001b[0m\u001b[38;5;34m266,610\u001b[0m (1.02 MB)\n"
      ]
     },
     "metadata": {},
     "output_type": "display_data"
    },
    {
     "data": {
      "text/html": [
       "<pre style=\"white-space:pre;overflow-x:auto;line-height:normal;font-family:Menlo,'DejaVu Sans Mono',consolas,'Courier New',monospace\"><span style=\"font-weight: bold\"> Non-trainable params: </span><span style=\"color: #00af00; text-decoration-color: #00af00\">0</span> (0.00 B)\n",
       "</pre>\n"
      ],
      "text/plain": [
       "\u001b[1m Non-trainable params: \u001b[0m\u001b[38;5;34m0\u001b[0m (0.00 B)\n"
      ]
     },
     "metadata": {},
     "output_type": "display_data"
    },
    {
     "name": "stdout",
     "output_type": "stream",
     "text": [
      "None\n",
      "Epoch 1/30\n",
      "\u001b[1m1719/1719\u001b[0m \u001b[32m━━━━━━━━━━━━━━━━━━━━\u001b[0m\u001b[37m\u001b[0m \u001b[1m3s\u001b[0m 2ms/step - accuracy: 0.6963 - loss: 0.9600 - val_accuracy: 0.8282 - val_loss: 0.5034\n",
      "Epoch 2/30\n",
      "\u001b[1m1719/1719\u001b[0m \u001b[32m━━━━━━━━━━━━━━━━━━━━\u001b[0m\u001b[37m\u001b[0m \u001b[1m3s\u001b[0m 2ms/step - accuracy: 0.8256 - loss: 0.5001 - val_accuracy: 0.8544 - val_loss: 0.4387\n",
      "Epoch 3/30\n",
      "\u001b[1m1719/1719\u001b[0m \u001b[32m━━━━━━━━━━━━━━━━━━━━\u001b[0m\u001b[37m\u001b[0m \u001b[1m3s\u001b[0m 2ms/step - accuracy: 0.8432 - loss: 0.4471 - val_accuracy: 0.8494 - val_loss: 0.4323\n",
      "Epoch 4/30\n",
      "\u001b[1m1719/1719\u001b[0m \u001b[32m━━━━━━━━━━━━━━━━━━━━\u001b[0m\u001b[37m\u001b[0m \u001b[1m3s\u001b[0m 2ms/step - accuracy: 0.8489 - loss: 0.4231 - val_accuracy: 0.8630 - val_loss: 0.3954\n",
      "Epoch 5/30\n",
      "\u001b[1m1719/1719\u001b[0m \u001b[32m━━━━━━━━━━━━━━━━━━━━\u001b[0m\u001b[37m\u001b[0m \u001b[1m3s\u001b[0m 2ms/step - accuracy: 0.8586 - loss: 0.4038 - val_accuracy: 0.8648 - val_loss: 0.3912\n",
      "Epoch 6/30\n",
      "\u001b[1m1719/1719\u001b[0m \u001b[32m━━━━━━━━━━━━━━━━━━━━\u001b[0m\u001b[37m\u001b[0m \u001b[1m3s\u001b[0m 2ms/step - accuracy: 0.8630 - loss: 0.3906 - val_accuracy: 0.8690 - val_loss: 0.3837\n",
      "Epoch 7/30\n",
      "\u001b[1m1719/1719\u001b[0m \u001b[32m━━━━━━━━━━━━━━━━━━━━\u001b[0m\u001b[37m\u001b[0m \u001b[1m3s\u001b[0m 2ms/step - accuracy: 0.8708 - loss: 0.3686 - val_accuracy: 0.8686 - val_loss: 0.3829\n",
      "Epoch 8/30\n",
      "\u001b[1m1719/1719\u001b[0m \u001b[32m━━━━━━━━━━━━━━━━━━━━\u001b[0m\u001b[37m\u001b[0m \u001b[1m3s\u001b[0m 2ms/step - accuracy: 0.8731 - loss: 0.3574 - val_accuracy: 0.8752 - val_loss: 0.3506\n",
      "Epoch 9/30\n",
      "\u001b[1m1719/1719\u001b[0m \u001b[32m━━━━━━━━━━━━━━━━━━━━\u001b[0m\u001b[37m\u001b[0m \u001b[1m3s\u001b[0m 2ms/step - accuracy: 0.8777 - loss: 0.3448 - val_accuracy: 0.8678 - val_loss: 0.3853\n",
      "Epoch 10/30\n",
      "\u001b[1m1719/1719\u001b[0m \u001b[32m━━━━━━━━━━━━━━━━━━━━\u001b[0m\u001b[37m\u001b[0m \u001b[1m3s\u001b[0m 1ms/step - accuracy: 0.8825 - loss: 0.3355 - val_accuracy: 0.8808 - val_loss: 0.3535\n",
      "Epoch 11/30\n",
      "\u001b[1m1719/1719\u001b[0m \u001b[32m━━━━━━━━━━━━━━━━━━━━\u001b[0m\u001b[37m\u001b[0m \u001b[1m3s\u001b[0m 2ms/step - accuracy: 0.8833 - loss: 0.3267 - val_accuracy: 0.8822 - val_loss: 0.3429\n",
      "Epoch 12/30\n",
      "\u001b[1m1719/1719\u001b[0m \u001b[32m━━━━━━━━━━━━━━━━━━━━\u001b[0m\u001b[37m\u001b[0m \u001b[1m3s\u001b[0m 2ms/step - accuracy: 0.8838 - loss: 0.3228 - val_accuracy: 0.8806 - val_loss: 0.3391\n",
      "Epoch 13/30\n",
      "\u001b[1m1719/1719\u001b[0m \u001b[32m━━━━━━━━━━━━━━━━━━━━\u001b[0m\u001b[37m\u001b[0m \u001b[1m3s\u001b[0m 2ms/step - accuracy: 0.8891 - loss: 0.3109 - val_accuracy: 0.8834 - val_loss: 0.3301\n",
      "Epoch 14/30\n",
      "\u001b[1m1719/1719\u001b[0m \u001b[32m━━━━━━━━━━━━━━━━━━━━\u001b[0m\u001b[37m\u001b[0m \u001b[1m3s\u001b[0m 2ms/step - accuracy: 0.8887 - loss: 0.3083 - val_accuracy: 0.8844 - val_loss: 0.3297\n",
      "Epoch 15/30\n",
      "\u001b[1m1719/1719\u001b[0m \u001b[32m━━━━━━━━━━━━━━━━━━━━\u001b[0m\u001b[37m\u001b[0m \u001b[1m3s\u001b[0m 2ms/step - accuracy: 0.8929 - loss: 0.3004 - val_accuracy: 0.8788 - val_loss: 0.3448\n",
      "Epoch 16/30\n",
      "\u001b[1m1719/1719\u001b[0m \u001b[32m━━━━━━━━━━━━━━━━━━━━\u001b[0m\u001b[37m\u001b[0m \u001b[1m3s\u001b[0m 2ms/step - accuracy: 0.8948 - loss: 0.2919 - val_accuracy: 0.8858 - val_loss: 0.3193\n",
      "Epoch 17/30\n",
      "\u001b[1m1719/1719\u001b[0m \u001b[32m━━━━━━━━━━━━━━━━━━━━\u001b[0m\u001b[37m\u001b[0m \u001b[1m3s\u001b[0m 2ms/step - accuracy: 0.8956 - loss: 0.2870 - val_accuracy: 0.8810 - val_loss: 0.3298\n",
      "Epoch 18/30\n",
      "\u001b[1m1719/1719\u001b[0m \u001b[32m━━━━━━━━━━━━━━━━━━━━\u001b[0m\u001b[37m\u001b[0m \u001b[1m3s\u001b[0m 2ms/step - accuracy: 0.8996 - loss: 0.2786 - val_accuracy: 0.8822 - val_loss: 0.3363\n",
      "Epoch 19/30\n",
      "\u001b[1m1719/1719\u001b[0m \u001b[32m━━━━━━━━━━━━━━━━━━━━\u001b[0m\u001b[37m\u001b[0m \u001b[1m3s\u001b[0m 2ms/step - accuracy: 0.9018 - loss: 0.2703 - val_accuracy: 0.8836 - val_loss: 0.3277\n",
      "Epoch 20/30\n",
      "\u001b[1m1719/1719\u001b[0m \u001b[32m━━━━━━━━━━━━━━━━━━━━\u001b[0m\u001b[37m\u001b[0m \u001b[1m3s\u001b[0m 2ms/step - accuracy: 0.9015 - loss: 0.2712 - val_accuracy: 0.8924 - val_loss: 0.3051\n",
      "Epoch 21/30\n",
      "\u001b[1m1719/1719\u001b[0m \u001b[32m━━━━━━━━━━━━━━━━━━━━\u001b[0m\u001b[37m\u001b[0m \u001b[1m3s\u001b[0m 2ms/step - accuracy: 0.9026 - loss: 0.2656 - val_accuracy: 0.8924 - val_loss: 0.3045\n",
      "Epoch 22/30\n",
      "\u001b[1m1719/1719\u001b[0m \u001b[32m━━━━━━━━━━━━━━━━━━━━\u001b[0m\u001b[37m\u001b[0m \u001b[1m3s\u001b[0m 2ms/step - accuracy: 0.9066 - loss: 0.2592 - val_accuracy: 0.8912 - val_loss: 0.3091\n",
      "Epoch 23/30\n",
      "\u001b[1m1719/1719\u001b[0m \u001b[32m━━━━━━━━━━━━━━━━━━━━\u001b[0m\u001b[37m\u001b[0m \u001b[1m3s\u001b[0m 2ms/step - accuracy: 0.9076 - loss: 0.2599 - val_accuracy: 0.8912 - val_loss: 0.3075\n",
      "Epoch 24/30\n",
      "\u001b[1m1719/1719\u001b[0m \u001b[32m━━━━━━━━━━━━━━━━━━━━\u001b[0m\u001b[37m\u001b[0m \u001b[1m3s\u001b[0m 2ms/step - accuracy: 0.9073 - loss: 0.2551 - val_accuracy: 0.8838 - val_loss: 0.3322\n",
      "Epoch 25/30\n",
      "\u001b[1m1719/1719\u001b[0m \u001b[32m━━━━━━━━━━━━━━━━━━━━\u001b[0m\u001b[37m\u001b[0m \u001b[1m3s\u001b[0m 2ms/step - accuracy: 0.9107 - loss: 0.2477 - val_accuracy: 0.8888 - val_loss: 0.3106\n",
      "Epoch 26/30\n",
      "\u001b[1m1719/1719\u001b[0m \u001b[32m━━━━━━━━━━━━━━━━━━━━\u001b[0m\u001b[37m\u001b[0m \u001b[1m3s\u001b[0m 2ms/step - accuracy: 0.9136 - loss: 0.2399 - val_accuracy: 0.8952 - val_loss: 0.2986\n",
      "Epoch 27/30\n",
      "\u001b[1m1719/1719\u001b[0m \u001b[32m━━━━━━━━━━━━━━━━━━━━\u001b[0m\u001b[37m\u001b[0m \u001b[1m3s\u001b[0m 2ms/step - accuracy: 0.9141 - loss: 0.2359 - val_accuracy: 0.8952 - val_loss: 0.2968\n",
      "Epoch 28/30\n",
      "\u001b[1m1719/1719\u001b[0m \u001b[32m━━━━━━━━━━━━━━━━━━━━\u001b[0m\u001b[37m\u001b[0m \u001b[1m3s\u001b[0m 2ms/step - accuracy: 0.9162 - loss: 0.2347 - val_accuracy: 0.8866 - val_loss: 0.3101\n",
      "Epoch 29/30\n",
      "\u001b[1m1719/1719\u001b[0m \u001b[32m━━━━━━━━━━━━━━━━━━━━\u001b[0m\u001b[37m\u001b[0m \u001b[1m4s\u001b[0m 2ms/step - accuracy: 0.9202 - loss: 0.2255 - val_accuracy: 0.8930 - val_loss: 0.3007\n",
      "Epoch 30/30\n",
      "\u001b[1m1719/1719\u001b[0m \u001b[32m━━━━━━━━━━━━━━━━━━━━\u001b[0m\u001b[37m\u001b[0m \u001b[1m3s\u001b[0m 2ms/step - accuracy: 0.9193 - loss: 0.2272 - val_accuracy: 0.8936 - val_loss: 0.3094\n",
      "Nyimpen gambar learning_curves_plot\n"
     ]
    },
    {
     "data": {
      "image/png": "[encoded data removed]",
      "text/plain": [
       "<Figure size 800x500 with 1 Axes>"
      ]
     },
     "metadata": {},
     "output_type": "display_data"
    },
    {
     "name": "stdout",
     "output_type": "stream",
     "text": [
      "\n",
      "Evaluasi dina Test Set:\n",
      "\u001b[1m313/313\u001b[0m \u001b[32m━━━━━━━━━━━━━━━━━━━━\u001b[0m\u001b[37m\u001b[0m \u001b[1m1s\u001b[0m 2ms/step - accuracy: 0.8812 - loss: 0.3397\n",
      "\u001b[1m1/1\u001b[0m \u001b[32m━━━━━━━━━━━━━━━━━━━━\u001b[0m\u001b[37m\u001b[0m \u001b[1m0s\u001b[0m 68ms/step\n",
      "\n",
      "Probabilitas prediksi pikeun 3 data kahiji:\n",
      " [[0.   0.   0.   0.   0.   0.   0.   0.01 0.   0.98]\n",
      " [0.   0.   1.   0.   0.   0.   0.   0.   0.   0.  ]\n",
      " [0.   1.   0.   0.   0.   0.   0.   0.   0.   0.  ]]\n",
      "\u001b[1m1/1\u001b[0m \u001b[32m━━━━━━━━━━━━━━━━━━━━\u001b[0m\u001b[37m\u001b[0m \u001b[1m0s\u001b[0m 43ms/step\n",
      "Kelas prediksi: ['Ankle boot' 'Pullover' 'Trouser']\n",
      "Epoch 1/20\n"
     ]
    },
    {
     "name": "stderr",
     "output_type": "stream",
     "text": [
      "C:\\Users\\raehu\\anaconda3\\Lib\\site-packages\\keras\\src\\layers\\core\\dense.py:93: UserWarning: Do not pass an `input_shape`/`input_dim` argument to a layer. When using Sequential models, prefer using an `Input(shape)` object as the first layer in the model instead.\n",
      "  super().__init__(activity_regularizer=activity_regularizer, **kwargs)\n"
     ]
    },
    {
     "name": "stdout",
     "output_type": "stream",
     "text": [
      "\u001b[1m363/363\u001b[0m \u001b[32m━━━━━━━━━━━━━━━━━━━━\u001b[0m\u001b[37m\u001b[0m \u001b[1m1s\u001b[0m 2ms/step - loss: 3.6044 - val_loss: 6.7496\n",
      "Epoch 2/20\n",
      "\u001b[1m363/363\u001b[0m \u001b[32m━━━━━━━━━━━━━━━━━━━━\u001b[0m\u001b[37m\u001b[0m \u001b[1m0s\u001b[0m 1ms/step - loss: 0.9063 - val_loss: 0.7012\n",
      "Epoch 3/20\n",
      "\u001b[1m363/363\u001b[0m \u001b[32m━━━━━━━━━━━━━━━━━━━━\u001b[0m\u001b[37m\u001b[0m \u001b[1m0s\u001b[0m 1ms/step - loss: 0.6672 - val_loss: 0.6180\n",
      "Epoch 4/20\n",
      "\u001b[1m363/363\u001b[0m \u001b[32m━━━━━━━━━━━━━━━━━━━━\u001b[0m\u001b[37m\u001b[0m \u001b[1m0s\u001b[0m 1ms/step - loss: 0.6461 - val_loss: 0.5648\n",
      "Epoch 5/20\n",
      "\u001b[1m363/363\u001b[0m \u001b[32m━━━━━━━━━━━━━━━━━━━━\u001b[0m\u001b[37m\u001b[0m \u001b[1m0s\u001b[0m 1ms/step - loss: 0.5905 - val_loss: 0.5360\n",
      "Epoch 6/20\n",
      "\u001b[1m363/363\u001b[0m \u001b[32m━━━━━━━━━━━━━━━━━━━━\u001b[0m\u001b[37m\u001b[0m \u001b[1m0s\u001b[0m 1ms/step - loss: 0.5488 - val_loss: 0.5057\n",
      "Epoch 7/20\n",
      "\u001b[1m363/363\u001b[0m \u001b[32m━━━━━━━━━━━━━━━━━━━━\u001b[0m\u001b[37m\u001b[0m \u001b[1m0s\u001b[0m 1ms/step - loss: 0.5500 - val_loss: 0.4869\n",
      "Epoch 8/20\n",
      "\u001b[1m363/363\u001b[0m \u001b[32m━━━━━━━━━━━━━━━━━━━━\u001b[0m\u001b[37m\u001b[0m \u001b[1m0s\u001b[0m 1ms/step - loss: 0.5251 - val_loss: 0.4730\n",
      "Epoch 9/20\n",
      "\u001b[1m363/363\u001b[0m \u001b[32m━━━━━━━━━━━━━━━━━━━━\u001b[0m\u001b[37m\u001b[0m \u001b[1m0s\u001b[0m 1ms/step - loss: 0.4925 - val_loss: 0.4585\n",
      "Epoch 10/20\n",
      "\u001b[1m363/363\u001b[0m \u001b[32m━━━━━━━━━━━━━━━━━━━━\u001b[0m\u001b[37m\u001b[0m \u001b[1m0s\u001b[0m 1ms/step - loss: 0.4863 - val_loss: 0.4463\n",
      "Epoch 11/20\n",
      "\u001b[1m363/363\u001b[0m \u001b[32m━━━━━━━━━━━━━━━━━━━━\u001b[0m\u001b[37m\u001b[0m \u001b[1m1s\u001b[0m 1ms/step - loss: 0.4561 - val_loss: 0.4577\n",
      "Epoch 12/20\n",
      "\u001b[1m363/363\u001b[0m \u001b[32m━━━━━━━━━━━━━━━━━━━━\u001b[0m\u001b[37m\u001b[0m \u001b[1m1s\u001b[0m 1ms/step - loss: 0.4708 - val_loss: 0.4350\n",
      "Epoch 13/20\n",
      "\u001b[1m363/363\u001b[0m \u001b[32m━━━━━━━━━━━━━━━━━━━━\u001b[0m\u001b[37m\u001b[0m \u001b[1m1s\u001b[0m 1ms/step - loss: 0.4491 - val_loss: 0.4360\n",
      "Epoch 14/20\n",
      "\u001b[1m363/363\u001b[0m \u001b[32m━━━━━━━━━━━━━━━━━━━━\u001b[0m\u001b[37m\u001b[0m \u001b[1m1s\u001b[0m 2ms/step - loss: 0.4382 - val_loss: 0.4356\n",
      "Epoch 15/20\n",
      "\u001b[1m363/363\u001b[0m \u001b[32m━━━━━━━━━━━━━━━━━━━━\u001b[0m\u001b[37m\u001b[0m \u001b[1m1s\u001b[0m 2ms/step - loss: 0.4565 - val_loss: 0.4507\n",
      "Epoch 16/20\n",
      "\u001b[1m363/363\u001b[0m \u001b[32m━━━━━━━━━━━━━━━━━━━━\u001b[0m\u001b[37m\u001b[0m \u001b[1m1s\u001b[0m 2ms/step - loss: 0.4389 - val_loss: 0.4477\n",
      "Epoch 17/20\n",
      "\u001b[1m363/363\u001b[0m \u001b[32m━━━━━━━━━━━━━━━━━━━━\u001b[0m\u001b[37m\u001b[0m \u001b[1m1s\u001b[0m 1ms/step - loss: 0.4504 - val_loss: 0.4504\n",
      "Epoch 18/20\n",
      "\u001b[1m363/363\u001b[0m \u001b[32m━━━━━━━━━━━━━━━━━━━━\u001b[0m\u001b[37m\u001b[0m \u001b[1m1s\u001b[0m 1ms/step - loss: 0.4302 - val_loss: 0.4459\n",
      "Epoch 19/20\n",
      "\u001b[1m363/363\u001b[0m \u001b[32m━━━━━━━━━━━━━━━━━━━━\u001b[0m\u001b[37m\u001b[0m \u001b[1m1s\u001b[0m 1ms/step - loss: 0.4133 - val_loss: 0.4567\n",
      "Epoch 20/20\n",
      "\u001b[1m363/363\u001b[0m \u001b[32m━━━━━━━━━━━━━━━━━━━━\u001b[0m\u001b[37m\u001b[0m \u001b[1m1s\u001b[0m 1ms/step - loss: 0.4285 - val_loss: 0.4527\n",
      "\u001b[1m162/162\u001b[0m \u001b[32m━━━━━━━━━━━━━━━━━━━━\u001b[0m\u001b[37m\u001b[0m \u001b[1m0s\u001b[0m 951us/step - loss: 0.4234\n",
      "\n",
      "MSE dina test set (Regresi): 0.4182\n",
      "\n",
      "Ringkesan Wide & Deep Model:\n"
     ]
    },
    {
     "data": {
      "text/html": [
       "<pre style=\"white-space:pre;overflow-x:auto;line-height:normal;font-family:Menlo,'DejaVu Sans Mono',consolas,'Courier New',monospace\"><span style=\"font-weight: bold\">Model: \"functional_2\"</span>\n",
       "</pre>\n"
      ],
      "text/plain": [
       "\u001b[1mModel: \"functional_2\"\u001b[0m\n"
      ]
     },
     "metadata": {},
     "output_type": "display_data"
    },
    {
     "data": {
      "text/html": [
       "<pre style=\"white-space:pre;overflow-x:auto;line-height:normal;font-family:Menlo,'DejaVu Sans Mono',consolas,'Courier New',monospace\">┏━━━━━━━━━━━━━━━━━━━━━━━━━━━━━━━┳━━━━━━━━━━━━━━━━━━━━━━━━━━━┳━━━━━━━━━━━━━━━━━┳━━━━━━━━━━━━━━━━━━━━━━━━━━━━┓\n",
       "┃<span style=\"font-weight: bold\"> Layer (type)                  </span>┃<span style=\"font-weight: bold\"> Output Shape              </span>┃<span style=\"font-weight: bold\">         Param # </span>┃<span style=\"font-weight: bold\"> Connected to               </span>┃\n",
       "┡━━━━━━━━━━━━━━━━━━━━━━━━━━━━━━━╇━━━━━━━━━━━━━━━━━━━━━━━━━━━╇━━━━━━━━━━━━━━━━━╇━━━━━━━━━━━━━━━━━━━━━━━━━━━━┩\n",
       "│ input_layer_2 (<span style=\"color: #0087ff; text-decoration-color: #0087ff\">InputLayer</span>)    │ (<span style=\"color: #00d7ff; text-decoration-color: #00d7ff\">None</span>, <span style=\"color: #00af00; text-decoration-color: #00af00\">8</span>)                 │               <span style=\"color: #00af00; text-decoration-color: #00af00\">0</span> │ -                          │\n",
       "├───────────────────────────────┼───────────────────────────┼─────────────────┼────────────────────────────┤\n",
       "│ dense_5 (<span style=\"color: #0087ff; text-decoration-color: #0087ff\">Dense</span>)               │ (<span style=\"color: #00d7ff; text-decoration-color: #00d7ff\">None</span>, <span style=\"color: #00af00; text-decoration-color: #00af00\">30</span>)                │             <span style=\"color: #00af00; text-decoration-color: #00af00\">270</span> │ input_layer_2[<span style=\"color: #00af00; text-decoration-color: #00af00\">0</span>][<span style=\"color: #00af00; text-decoration-color: #00af00\">0</span>]        │\n",
       "├───────────────────────────────┼───────────────────────────┼─────────────────┼────────────────────────────┤\n",
       "│ dense_6 (<span style=\"color: #0087ff; text-decoration-color: #0087ff\">Dense</span>)               │ (<span style=\"color: #00d7ff; text-decoration-color: #00d7ff\">None</span>, <span style=\"color: #00af00; text-decoration-color: #00af00\">30</span>)                │             <span style=\"color: #00af00; text-decoration-color: #00af00\">930</span> │ dense_5[<span style=\"color: #00af00; text-decoration-color: #00af00\">0</span>][<span style=\"color: #00af00; text-decoration-color: #00af00\">0</span>]              │\n",
       "├───────────────────────────────┼───────────────────────────┼─────────────────┼────────────────────────────┤\n",
       "│ concatenate (<span style=\"color: #0087ff; text-decoration-color: #0087ff\">Concatenate</span>)     │ (<span style=\"color: #00d7ff; text-decoration-color: #00d7ff\">None</span>, <span style=\"color: #00af00; text-decoration-color: #00af00\">38</span>)                │               <span style=\"color: #00af00; text-decoration-color: #00af00\">0</span> │ input_layer_2[<span style=\"color: #00af00; text-decoration-color: #00af00\">0</span>][<span style=\"color: #00af00; text-decoration-color: #00af00\">0</span>],       │\n",
       "│                               │                           │                 │ dense_6[<span style=\"color: #00af00; text-decoration-color: #00af00\">0</span>][<span style=\"color: #00af00; text-decoration-color: #00af00\">0</span>]              │\n",
       "├───────────────────────────────┼───────────────────────────┼─────────────────┼────────────────────────────┤\n",
       "│ dense_7 (<span style=\"color: #0087ff; text-decoration-color: #0087ff\">Dense</span>)               │ (<span style=\"color: #00d7ff; text-decoration-color: #00d7ff\">None</span>, <span style=\"color: #00af00; text-decoration-color: #00af00\">1</span>)                 │              <span style=\"color: #00af00; text-decoration-color: #00af00\">39</span> │ concatenate[<span style=\"color: #00af00; text-decoration-color: #00af00\">0</span>][<span style=\"color: #00af00; text-decoration-color: #00af00\">0</span>]          │\n",
       "└───────────────────────────────┴───────────────────────────┴─────────────────┴────────────────────────────┘\n",
       "</pre>\n"
      ],
      "text/plain": [
       "┏━━━━━━━━━━━━━━━━━━━━━━━━━━━━━━━┳━━━━━━━━━━━━━━━━━━━━━━━━━━━┳━━━━━━━━━━━━━━━━━┳━━━━━━━━━━━━━━━━━━━━━━━━━━━━┓\n",
       "┃\u001b[1m \u001b[0m\u001b[1mLayer (type)                 \u001b[0m\u001b[1m \u001b[0m┃\u001b[1m \u001b[0m\u001b[1mOutput Shape             \u001b[0m\u001b[1m \u001b[0m┃\u001b[1m \u001b[0m\u001b[1m        Param #\u001b[0m\u001b[1m \u001b[0m┃\u001b[1m \u001b[0m\u001b[1mConnected to              \u001b[0m\u001b[1m \u001b[0m┃\n",
       "┡━━━━━━━━━━━━━━━━━━━━━━━━━━━━━━━╇━━━━━━━━━━━━━━━━━━━━━━━━━━━╇━━━━━━━━━━━━━━━━━╇━━━━━━━━━━━━━━━━━━━━━━━━━━━━┩\n",
       "│ input_layer_2 (\u001b[38;5;33mInputLayer\u001b[0m)    │ (\u001b[38;5;45mNone\u001b[0m, \u001b[38;5;34m8\u001b[0m)                 │               \u001b[38;5;34m0\u001b[0m │ -                          │\n",
       "├───────────────────────────────┼───────────────────────────┼─────────────────┼────────────────────────────┤\n",
       "│ dense_5 (\u001b[38;5;33mDense\u001b[0m)               │ (\u001b[38;5;45mNone\u001b[0m, \u001b[38;5;34m30\u001b[0m)                │             \u001b[38;5;34m270\u001b[0m │ input_layer_2[\u001b[38;5;34m0\u001b[0m][\u001b[38;5;34m0\u001b[0m]        │\n",
       "├───────────────────────────────┼───────────────────────────┼─────────────────┼────────────────────────────┤\n",
       "│ dense_6 (\u001b[38;5;33mDense\u001b[0m)               │ (\u001b[38;5;45mNone\u001b[0m, \u001b[38;5;34m30\u001b[0m)                │             \u001b[38;5;34m930\u001b[0m │ dense_5[\u001b[38;5;34m0\u001b[0m][\u001b[38;5;34m0\u001b[0m]              │\n",
       "├───────────────────────────────┼───────────────────────────┼─────────────────┼────────────────────────────┤\n",
       "│ concatenate (\u001b[38;5;33mConcatenate\u001b[0m)     │ (\u001b[38;5;45mNone\u001b[0m, \u001b[38;5;34m38\u001b[0m)                │               \u001b[38;5;34m0\u001b[0m │ input_layer_2[\u001b[38;5;34m0\u001b[0m][\u001b[38;5;34m0\u001b[0m],       │\n",
       "│                               │                           │                 │ dense_6[\u001b[38;5;34m0\u001b[0m][\u001b[38;5;34m0\u001b[0m]              │\n",
       "├───────────────────────────────┼───────────────────────────┼─────────────────┼────────────────────────────┤\n",
       "│ dense_7 (\u001b[38;5;33mDense\u001b[0m)               │ (\u001b[38;5;45mNone\u001b[0m, \u001b[38;5;34m1\u001b[0m)                 │              \u001b[38;5;34m39\u001b[0m │ concatenate[\u001b[38;5;34m0\u001b[0m][\u001b[38;5;34m0\u001b[0m]          │\n",
       "└───────────────────────────────┴───────────────────────────┴─────────────────┴────────────────────────────┘\n"
      ]
     },
     "metadata": {},
     "output_type": "display_data"
    },
    {
     "data": {
      "text/html": [
       "<pre style=\"white-space:pre;overflow-x:auto;line-height:normal;font-family:Menlo,'DejaVu Sans Mono',consolas,'Courier New',monospace\"><span style=\"font-weight: bold\"> Total params: </span><span style=\"color: #00af00; text-decoration-color: #00af00\">1,239</span> (4.84 KB)\n",
       "</pre>\n"
      ],
      "text/plain": [
       "\u001b[1m Total params: \u001b[0m\u001b[38;5;34m1,239\u001b[0m (4.84 KB)\n"
      ]
     },
     "metadata": {},
     "output_type": "display_data"
    },
    {
     "data": {
      "text/html": [
       "<pre style=\"white-space:pre;overflow-x:auto;line-height:normal;font-family:Menlo,'DejaVu Sans Mono',consolas,'Courier New',monospace\"><span style=\"font-weight: bold\"> Trainable params: </span><span style=\"color: #00af00; text-decoration-color: #00af00\">1,239</span> (4.84 KB)\n",
       "</pre>\n"
      ],
      "text/plain": [
       "\u001b[1m Trainable params: \u001b[0m\u001b[38;5;34m1,239\u001b[0m (4.84 KB)\n"
      ]
     },
     "metadata": {},
     "output_type": "display_data"
    },
    {
     "data": {
      "text/html": [
       "<pre style=\"white-space:pre;overflow-x:auto;line-height:normal;font-family:Menlo,'DejaVu Sans Mono',consolas,'Courier New',monospace\"><span style=\"font-weight: bold\"> Non-trainable params: </span><span style=\"color: #00af00; text-decoration-color: #00af00\">0</span> (0.00 B)\n",
       "</pre>\n"
      ],
      "text/plain": [
       "\u001b[1m Non-trainable params: \u001b[0m\u001b[38;5;34m0\u001b[0m (0.00 B)\n"
      ]
     },
     "metadata": {},
     "output_type": "display_data"
    },
    {
     "data": {
      "text/plain": [
       "'\\n### Latihan: Jawaban Teoretis\\n\\n**1. Maenkeun TensorFlow Playground**: (Jawaban dumasar kana observasi)\\n   - **a. Pola**: Lapisan kahiji diajar pola saderhana (garis), lapisan saterusna ngagabungkeunana jadi pola nu leuwih kompléks (lengkungan, juru).\\n   - **b. Fungsi Aktivasi**: ReLU ngahasilkeun wates anu linear/patah-patah, sedengkeun Tanh ngahasilkeun wates anu lemes jeung ngalengkung.\\n   - **c. Minimum Lokal**: Jaringan leutik bisa kajebak dina minimum lokal, hasilna bisa béda-béda unggal latihan.\\n   - **d. Jaringan Leutik teuing**: Jaringan anu neuron-na saeutik teuing moal bisa diajar pola kompléks (underfitting).\\n   - **e. Jaringan Cukup Gedé**: Jaringan gedé jarang kajebak dina minimum lokal anu goréng, jeung hasilna leuwih konsisten.\\n   - **f. Vanishing Gradients**: Dina jaringan jero, lapisan handap (deukeut input) diajar leuwih laun batan lapisan luhur (deukeut output). Ieu disebut *vanishing gradients problem*.\\n\\n**2. Gambar ANN anu ngitung A ⊕ B (XOR)**:\\n   XOR bisa diwangun ku $(A \\\\land \\neg B) \\\\lor (\\neg A \\\\land B)$. Ieu merlukeun jaringan jeung *hidden layer* sabab XOR teu bisa dipisahkeun sacara linear. Conto jaringanna aya dina Gambar 10-6 di PDF.\\n\\n**3. Naha leuwih hadé ngagunakeun Logistic Regression batan Perceptron klasik?**\\n   Alesan utamana nyaéta Perceptron klasik ngahasilkeun prediksi \"teuas\" (0 atawa 1) dumasar kana *threshold*, sedengkeun Logistic Regression ngahasilkeun probabilitas kelas. Probabilitas ieu leuwih informatif. Pikeun nyaruakeun Perceptron jeung Logistic Regression, ganti fungsi aktivasina tina *step function* jadi *logistic (sigmoid) function* jeung latih maké *cross-entropy loss*.\\n\\n**4. Naha fungsi aktivasi logistik jadi konci dina latihan MLP kahiji?**\\n   Sabab fungsi logistik (sigmoid) bisa didiferensiasi (boga turunan) di sakabéh titik. Fungsi *step* anu dipaké ku Perceptron saméméhna henteu bisa didiferensiasi di titik 0 jeung turunanna 0 di tempat séjén, nu ngajadikeun Gradient Descent teu bisa jalan.\\n\\n**5. Sebutkeun 3 fungsi aktivasi populér. Naha anjeun bisa ngagambarna?**\\n   1.  **ReLU (Rectified Linear Unit)**: $f(z) = max(0, z)$. Bentukna garis lempeng pikeun z<0 (di sumbu x) jeung garis naék pikeun z>0.\\n   2.  **Sigmoid (Logistic)**: $σ(z) = 1 / (1 + e^{-z})$. Bentukna siga hurup \"S\", rentangna ti 0 nepi ka 1.\\n   3.  **Tanh (Hyperbolic Tangent)**: $tanh(z) = (e^z - e^{-z}) / (e^z + e^{-z})$. Bentukna siga hurup \"S\" ogé, tapi rentangna ti -1 nepi ka 1.\\n\\n**6. Misalna anjeun boga MLP...**\\n   - **Bentuk matriks input X?**: (m, 10), dimana m jumlah instance.\\n   - **Bentuk $W_h$ jeung $b_h$?**: Bobot $W_h$ bentukna (10, 50). Bias $b_h$ bentukna (50,).\\n   - **Bentuk $W_o$ jeung $b_o$?**: Bobot $W_o$ bentukna (50, 3). Bias $b_o$ bentukna (3,).\\n   - **Bentuk matriks output Y?**: (m, 3).\\n   - **Rumus output Y?**: $Y = ReLU( (ReLU(X \\\\cdot W_h + b_h)) \\\\cdot W_o + b_o )$.\\n\\n**7. Sabaraha neuron output anu diperlukeun?**\\n   - **Spam/Ham**: 1 neuron, aktivasina **logistic (sigmoid)**.\\n   - **MNIST**: 10 neuron, aktivasina **softmax**.\\n   - **Harga Imah**: 1 neuron, **euweuh aktivasi**.\\n\\n**8. Naon ari backpropagation? Bédana jeung reverse-mode autodiff?**\\n   - **Backpropagation**: Ngaran algoritma pikeun ngalatih ANN. Éta ngalibatkeun hiji *forward pass* (ngitung prediksi jeung kasalahan) dituturkeun ku hiji *reverse pass* (ngitung gradién kasalahan pikeun unggal parameter), tuluy hiji léngkah *Gradient Descent*.\\n   - **Bédana**: *Reverse-mode autodiff* nyaéta téknik matematis pikeun ngitung gradién sacara éfisién. Backpropagation ngagunakeun *reverse-mode autodiff* dina léngkah *reverse pass*-na, tuluy ngagabungkeunana jeung léngkah Gradient Descent. Jadi, backpropagation leuwih ti saukur reverse-mode autodiff.\\n\\n**9. Sebutkeun sakabéh hyperparameter dina MLP dasar. Kumaha cara ngubahna lamun overfitting?**\\n   - **Hyperparameters**: Jumlah *hidden layers*, jumlah neuron per *hidden layer*, fungsi aktivasi, optimizer, *learning rate*, *batch size*, *weight initializer*.\\n   - **Cara ngatasi overfitting**:\\n     - Kurangan jumlah *hidden layers* atawa neuron per layer.\\n     - Tambahkeun téknik regularisasi (misalna, L1/L2, dibahas di Bab 11).\\n     - Tambahkeun *dropout* (dibahas di Bab 11).\\n     - Gunakeun *early stopping*.\\n     - Gunakeun *batch size* anu leuwih gedé (kadang bisa mantuan).\\n'"
      ]
     },
     "execution_count": 1,
     "metadata": {},
     "output_type": "execute_result"
    }
   ],
   "source": [
    "# --- SETUP AWAL ---\n",
    "# Memerlukan Python ≥3.5\n",
    "import sys\n",
    "assert sys.version_info >= (3, 5)\n",
    "\n",
    "# Memerlukan Scikit-Learn ≥0.20\n",
    "import sklearn\n",
    "assert sklearn.__version__ >= \"0.20\"\n",
    "\n",
    "# Memerlukan TensorFlow ≥2.0\n",
    "import tensorflow as tf\n",
    "from tensorflow import keras\n",
    "print(\"Versi TensorFlow:\", tf.__version__)\n",
    "print(\"Versi Keras:\", keras.__version__)\n",
    "\n",
    "# Impor library umum\n",
    "import numpy as np\n",
    "import pandas as pd\n",
    "import os\n",
    "\n",
    "# Untuk membuat plot yang konsisten\n",
    "%matplotlib inline\n",
    "import matplotlib as mpl\n",
    "import matplotlib.pyplot as plt\n",
    "mpl.rc('axes', labelsize=14)\n",
    "mpl.rc('xtick', labelsize=12)\n",
    "mpl.rc('ytick', labelsize=12)\n",
    "\n",
    "# Direktori untuk menyimpan gambar\n",
    "PROJECT_ROOT_DIR = \".\"\n",
    "CHAPTER_ID = \"ann\"\n",
    "IMAGES_PATH = os.path.join(PROJECT_ROOT_DIR, \"images\", CHAPTER_ID)\n",
    "os.makedirs(IMAGES_PATH, exist_ok=True)\n",
    "\n",
    "def save_fig(fig_id, tight_layout=True, fig_extension=\"png\", resolution=300):\n",
    "    path = os.path.join(IMAGES_PATH, fig_id + \".\" + fig_extension)\n",
    "    print(\"Menyimpan gambar\", fig_id)\n",
    "    if tight_layout:\n",
    "        plt.tight_layout()\n",
    "    plt.savefig(path, format=fig_extension, dpi=resolution)\n",
    "\n",
    "\"\"\"\n",
    "# Bab 10: Pengantar Jaringan Saraf Tiruan (Artificial Neural Networks - ANN) dengan Keras\n",
    "\n",
    "## Penjelasan Teoretis: Dari Neuron Biologis ke Neuron Artifisial\n",
    "Jaringan Saraf Tiruan (ANN) terinspirasi oleh arsitektur otak. Model ini dibangun dari unit-unit yang disebut neuron, yang diatur dalam lapisan-lapisan (layers).\n",
    "\n",
    "- **Perceptron**: Bentuk ANN paling sederhana, terdiri dari satu lapis *Threshold Logic Units* (TLU). Hanya bisa mempelajari pola yang *linearly separable*.\n",
    "- **Multilayer Perceptron (MLP)**: Dengan menumpuk beberapa lapis Perceptron (menambahkan *hidden layers*), kita bisa menyelesaikan masalah yang lebih kompleks.\n",
    "- **Backpropagation**: Algoritma kunci untuk melatih MLP. Ini adalah *Gradient Descent* yang efisien, menghitung gradien kesalahan untuk setiap parameter model dalam dua langkah (maju dan mundur).\n",
    "- **Activation Function**: Fungsi non-linear (seperti ReLU, sigmoid, tanh) yang diperlukan di antara lapisan agar jaringan dapat mempelajari pola yang kompleks.\n",
    "\"\"\"\n",
    "\n",
    "# --- 1. Membangun Classifier Gambar menggunakan Sequential API ---\n",
    "\"\"\"\n",
    "Keras menyediakan API tingkat tinggi untuk membangun, melatih, dan mengevaluasi jaringan saraf. Kita akan menggunakan `tf.keras`.\n",
    "\n",
    "Kita akan menggunakan dataset **Fashion MNIST**, yang berisi gambar-gambar produk fashion.\n",
    "\"\"\"\n",
    "# Memuat dataset Fashion MNIST\n",
    "fashion_mnist = keras.datasets.fashion_mnist\n",
    "(X_train_full, y_train_full), (X_test, y_test) = fashion_mnist.load_data()\n",
    "\n",
    "# Membagi data training menjadi data validasi dan training, serta melakukan scaling\n",
    "# Kita membagi dengan 255.0 untuk mengubah skala piksel dari 0-255 menjadi 0-1\n",
    "X_valid, X_train = X_train_full[:5000] / 255.0, X_train_full[5000:] / 255.0\n",
    "y_valid, y_train = y_train_full[:5000], y_train_full[5000:]\n",
    "X_test = X_test / 255.0\n",
    "\n",
    "# Nama kelas\n",
    "class_names = [\"T-shirt/top\", \"Trouser\", \"Pullover\", \"Dress\", \"Coat\",\n",
    "               \"Sandal\", \"Shirt\", \"Sneaker\", \"Bag\", \"Ankle boot\"]\n",
    "\n",
    "\"\"\"\n",
    "#### Membuat Model menggunakan Sequential API\n",
    "Sequential API merupakan cara termudah untuk membangun model Keras yang lapisannya tersusun secara berurutan.\n",
    "\"\"\"\n",
    "# Membangun model\n",
    "model = keras.models.Sequential([\n",
    "    keras.layers.Flatten(input_shape=[28, 28]), # Meratakan gambar 28x28 menjadi array 1D (784)\n",
    "    keras.layers.Dense(300, activation=\"relu\"),   # Hidden layer pertama dengan 300 neuron\n",
    "    keras.layers.Dense(100, activation=\"relu\"),   # Hidden layer kedua dengan 100 neuron\n",
    "    keras.layers.Dense(10, activation=\"softmax\")  # Output layer dengan 10 neuron (1 per kelas)\n",
    "])\n",
    "\n",
    "# Menampilkan ringkasan model\n",
    "print(model.summary())\n",
    "\n",
    "\"\"\"\n",
    "#### Mengompilasi Model\n",
    "Sebelum melatih, kita harus mengompilasi model, menentukan *loss function*, *optimizer*, dan *metrics*.\n",
    "\"\"\"\n",
    "model.compile(loss=\"sparse_categorical_crossentropy\",\n",
    "              optimizer=\"sgd\",\n",
    "              metrics=[\"accuracy\"])\n",
    "\n",
    "\"\"\"\n",
    "#### Melatih dan Mengevaluasi Model\n",
    "Kita melatih model menggunakan metode `fit()`.\n",
    "\"\"\"\n",
    "history = model.fit(X_train, y_train, epochs=30,\n",
    "                    validation_data=(X_valid, y_valid))\n",
    "\n",
    "# Menggambar kurva pembelajaran\n",
    "pd.DataFrame(history.history).plot(figsize=(8, 5))\n",
    "plt.grid(True)\n",
    "plt.gca().set_ylim(0, 1) # menetapkan rentang vertikal ke [0-1]\n",
    "plt.title(\"Kurva Pembelajaran\")\n",
    "save_fig(\"learning_curves_plot\")\n",
    "plt.show()\n",
    "\n",
    "# Evaluasi pada test set\n",
    "print(\"\\nEvaluasi pada Test Set:\")\n",
    "model.evaluate(X_test, y_test)\n",
    "\n",
    "# Menggunakan model untuk prediksi\n",
    "X_new = X_test[:3]\n",
    "y_proba = model.predict(X_new)\n",
    "print(\"\\nProbabilitas prediksi untuk 3 data pertama:\\n\", y_proba.round(2))\n",
    "\n",
    "y_pred = np.argmax(model.predict(X_new), axis=-1)\n",
    "print(\"Kelas prediksi:\", np.array(class_names)[y_pred])\n",
    "\n",
    "\n",
    "# --- 2. Membangun MLP Regresi ---\n",
    "\"\"\"\n",
    "Kita akan menggunakan dataset California Housing. Perbedaan utamanya adalah:\n",
    "- Output layer hanya memiliki 1 neuron (karena kita memprediksi satu nilai).\n",
    "- Tidak menggunakan fungsi aktivasi di output layer.\n",
    "- Loss function yang digunakan adalah 'mean_squared_error'.\n",
    "\"\"\"\n",
    "from sklearn.datasets import fetch_california_housing\n",
    "from sklearn.model_selection import train_test_split\n",
    "from sklearn.preprocessing import StandardScaler\n",
    "\n",
    "housing = fetch_california_housing()\n",
    "X_train_full, X_test, y_train_full, y_test = train_test_split(housing.data, housing.target, random_state=42)\n",
    "X_train, X_valid, y_train, y_valid = train_test_split(X_train_full, y_train_full, random_state=42)\n",
    "\n",
    "scaler = StandardScaler()\n",
    "X_train = scaler.fit_transform(X_train)\n",
    "X_valid = scaler.transform(X_valid)\n",
    "X_test = scaler.transform(X_test)\n",
    "\n",
    "model_reg = keras.models.Sequential([\n",
    "    keras.layers.Dense(30, activation=\"relu\", input_shape=X_train.shape[1:]),\n",
    "    keras.layers.Dense(1)\n",
    "])\n",
    "model_reg.compile(loss=\"mean_squared_error\", optimizer=keras.optimizers.SGD(learning_rate=1e-3))\n",
    "history_reg = model_reg.fit(X_train, y_train, epochs=20, validation_data=(X_valid, y_valid))\n",
    "mse_test = model_reg.evaluate(X_test, y_test)\n",
    "print(f\"\\nMSE pada test set (Regresi): {mse_test:.4f}\")\n",
    "\n",
    "\n",
    "# --- 3. Membangun Model Kompleks menggunakan Functional API ---\n",
    "\"\"\"\n",
    "Functional API lebih fleksibel, memungkinkan kita membangun arsitektur yang lebih kompleks, seperti *Wide & Deep network*, atau model yang memiliki beberapa input/output.\n",
    "\"\"\"\n",
    "# Contoh Wide & Deep Network\n",
    "input_ = keras.layers.Input(shape=X_train.shape[1:])\n",
    "hidden1 = keras.layers.Dense(30, activation=\"relu\")(input_)\n",
    "hidden2 = keras.layers.Dense(30, activation=\"relu\")(hidden1)\n",
    "concat = keras.layers.Concatenate()([input_, hidden2])\n",
    "output = keras.layers.Dense(1)(concat)\n",
    "model_func = keras.Model(inputs=[input_], outputs=[output])\n",
    "\n",
    "print(\"\\nRingkasan Wide & Deep Model:\")\n",
    "model_func.summary()\n",
    "\n",
    "\"\"\"\n",
    "#### Menyimpan dan Memulihkan Model\n",
    "Menyimpan model Keras yang sudah dilatih sangat mudah.\n",
    "\"\"\"\n",
    "# model.save(\"my_fashion_mnist_model.h5\")\n",
    "# model = keras.models.load_model(\"my_fashion_mnist_model.h5\")\n",
    "\n",
    "\"\"\"\n",
    "#### Menggunakan Callbacks\n",
    "Callbacks memungkinkan kita untuk menjalankan aksi-aksi tertentu selama proses pelatihan, seperti menyimpan *checkpoints* atau *early stopping*.\n",
    "\"\"\"\n",
    "# model.fit(X_train, y_train, epochs=10,\n",
    "#           validation_data=(X_valid, y_valid),\n",
    "#           callbacks=[\n",
    "#               keras.callbacks.ModelCheckpoint(\"my_keras_model.h5\", save_best_only=True),\n",
    "#               keras.callbacks.EarlyStopping(patience=10, restore_best_weights=True)\n",
    "#           ])\n",
    "\n",
    "# --- JAWABAN LATIHAN TEORETIS ---\n",
    "\n",
    "\"\"\"\n",
    "### Latihan: Jawaban Teoretis\n",
    "\n",
    "**1. Mainkan TensorFlow Playground**: (Jawaban berdasarkan observasi)\n",
    "   - **a. Pola**: Lapisan pertama mempelajari pola sederhana (garis), lapisan selanjutnya menggabungkannya menjadi pola yang lebih kompleks (lengkungan, sudut).\n",
    "   - **b. Fungsi Aktivasi**: ReLU menghasilkan batas yang linear/patah-patah, sedangkan Tanh menghasilkan batas yang halus dan melengkung.\n",
    "   - **c. Minimum Lokal**: Jaringan kecil bisa terjebak di minimum lokal, hasilnya bisa berbeda-beda setiap kali pelatihan.\n",
    "   - **d. Jaringan Terlalu Kecil**: Jaringan yang neuronnya terlalu sedikit tidak akan mampu mempelajari pola kompleks (underfitting).\n",
    "   - **e. Jaringan Cukup Besar**: Jaringan besar jarang terjebak di minimum lokal yang buruk, dan hasilnya lebih konsisten.\n",
    "   - **f. Vanishing Gradients**: Pada jaringan yang dalam, lapisan bawah (dekat input) belajar lebih lambat daripada lapisan atas (dekat output). Ini disebut *vanishing gradients problem*.\n",
    "\n",
    "**2. Gambar ANN yang menghitung A ⊕ B (XOR)**:\n",
    "   XOR dapat dibangun dari $(A \\land \\neg B) \\lor (\\neg A \\land B)$. Ini memerlukan jaringan dengan *hidden layer* karena XOR tidak dapat dipisahkan secara linear. Contoh jaringannya ada pada Gambar 10-6 di PDF.\n",
    "\n",
    "**3. Mengapa lebih baik menggunakan Logistic Regression daripada Perceptron klasik?**\n",
    "   Alasan utamanya adalah Perceptron klasik menghasilkan prediksi \"keras\" (0 atau 1) berdasarkan *threshold*, sedangkan Logistic Regression menghasilkan probabilitas kelas. Probabilitas ini lebih informatif. Untuk menyamakan Perceptron dengan Logistic Regression, ganti fungsi aktivasinya dari *step function* menjadi *logistic (sigmoid) function* dan latih menggunakan *cross-entropy loss*.\n",
    "\n",
    "**4. Mengapa fungsi aktivasi logistik menjadi kunci dalam pelatihan MLP pertama?**\n",
    "   Karena fungsi logistik (sigmoid) dapat didiferensiasi (memiliki turunan) di semua titik. Fungsi *step* yang digunakan oleh Perceptron sebelumnya tidak dapat didiferensiasi di titik 0 dan turunannya 0 di tempat lain, yang membuat Gradient Descent tidak dapat bekerja.\n",
    "\n",
    "**5. Sebutkan 3 fungsi aktivasi populer. Bisakah Anda menggambarnya?**\n",
    "   1.  **ReLU (Rectified Linear Unit)**: $f(z) = max(0, z)$. Bentuknya garis lurus untuk z<0 (di sumbu x) dan garis naik untuk z>0.\n",
    "   2.  **Sigmoid (Logistic)**: $σ(z) = 1 / (1 + e^{-z})$. Bentuknya seperti huruf \"S\", rentangnya dari 0 sampai 1.\n",
    "   3.  **Tanh (Hyperbolic Tangent)**: $tanh(z) = (e^z - e^{-z}) / (e^z + e^{-z})$. Bentuknya seperti huruf \"S\" juga, tetapi rentangnya dari -1 sampai 1.\n",
    "\n",
    "**6. Misalkan Anda punya MLP...**\n",
    "   - **Bentuk matriks input X?**: (m, 10), di mana m adalah jumlah instance.\n",
    "   - **Bentuk $W_h$ dan $b_h$?**: Bobot $W_h$ berbentuk (10, 50). Bias $b_h$ berbentuk (50,).\n",
    "   - **Bentuk $W_o$ dan $b_o$?**: Bobot $W_o$ berbentuk (50, 3). Bias $b_o$ berbentuk (3,).\n",
    "   - **Bentuk matriks output Y?**: (m, 3).\n",
    "   - **Rumus output Y?**: $Y = ReLU( (ReLU(X \\cdot W_h + b_h)) \\cdot W_o + b_o )$.\n",
    "\n",
    "**7. Berapa neuron output yang diperlukan?**\n",
    "   - **Spam/Ham**: 1 neuron, aktivasinya **logistic (sigmoid)**.\n",
    "   - **MNIST**: 10 neuron, aktivasinya **softmax**.\n",
    "   - **Harga Rumah**: 1 neuron, **tanpa aktivasi**.\n",
    "\n",
    "**8. Apa itu backpropagation? Apa bedanya dengan reverse-mode autodiff?**\n",
    "   - **Backpropagation**: Nama algoritma untuk melatih ANN. Algoritma ini melibatkan satu *forward pass* (menghitung prediksi dan kesalahan) diikuti oleh satu *reverse pass* (menghitung gradien kesalahan untuk setiap parameter), lalu satu langkah *Gradient Descent*.\n",
    "   - **Perbedaan**: *Reverse-mode autodiff* adalah teknik matematis untuk menghitung gradien secara efisien. Backpropagation menggunakan *reverse-mode autodiff* pada langkah *reverse pass*-nya, kemudian menggabungkannya dengan langkah Gradient Descent. Jadi, backpropagation lebih dari sekadar reverse-mode autodiff.\n",
    "\n",
    "**9. Sebutkan semua hyperparameter dalam MLP dasar. Bagaimana cara mengubahnya jika overfitting?**\n",
    "   - **Hyperparameters**: Jumlah *hidden layers*, jumlah neuron per *hidden layer*, fungsi aktivasi, optimizer, *learning rate*, *batch size*, *weight initializer*.\n",
    "   - **Cara mengatasi overfitting**:\n",
    "     - Kurangi jumlah *hidden layers* atau neuron per layer.\n",
    "     - Tambahkan teknik regularisasi (misalnya, L1/L2, dibahas di Bab 11).\n",
    "     - Tambahkan *dropout* (dibahas di Bab 11).\n",
    "     - Gunakan *early stopping*.\n",
    "     - Gunakan *batch size* yang lebih besar (terkadang bisa membantu).\n",
    "\"\"\"\n"
   ]
  }
 ],
 "metadata": {
  "kernelspec": {
   "display_name": "Python [conda env:base] *",
   "language": "python",
   "name": "conda-base-py"
  },
  "language_info": {
   "codemirror_mode": {
    "name": "ipython",
    "version": 3
   },
   "file_extension": ".py",
   "mimetype": "text/x-python",
   "name": "python",
   "nbconvert_exporter": "python",
   "pygments_lexer": "ipython3",
   "version": "3.12.7"
  }
 },
 "nbformat": 4,
 "nbformat_minor": 5
}

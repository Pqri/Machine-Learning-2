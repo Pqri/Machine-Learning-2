{
  "nbformat": 4,
  "nbformat_minor": 0,
  "metadata": {
    "colab": {
      "provenance": [],
      "gpuType": "T4"
    },
    "kernelspec": {
      "name": "python3",
      "display_name": "Python 3"
    },
    "language_info": {
      "name": "python"
    },
    "accelerator": "GPU"
  },
  "cells": [
    {
      "cell_type": "markdown",
      "source": [
        "# 📘 Chapter 19: Deploying TensorFlow Models to Production\n",
        "\n",
        "## 🎯 Tujuan Bab\n",
        "Bab ini membahas cara menyimpan, men-deploy, dan mengkonversi model TensorFlow untuk digunakan di dunia nyata — baik di server, mobile, maupun web.\n",
        "\n",
        "---\n",
        "\n",
        "## 🛠️ Metode Deployment yang Dibahas\n",
        "\n",
        "1. **TensorFlow SavedModel**\n",
        "   - Format model standar yang digunakan oleh TensorFlow Serving.\n",
        "   - Mendukung signature, asset, dan variabel terpisah.\n",
        "\n",
        "2. **.keras Format (Keras 3)**\n",
        "   - Format default di Keras 3 untuk menyimpan model lengkap dalam satu file `.keras`.\n",
        "   - Disarankan untuk reproducibility dan integrasi.\n",
        "\n",
        "3. **TensorFlow Lite (TFLite)**\n",
        "   - Format ringan untuk model ML di perangkat mobile (Android, iOS, microcontrollers).\n",
        "   - Dikonversi menggunakan `tf.lite.TFLiteConverter`.\n",
        "\n",
        "4. **TensorFlow.js (TF.js)**\n",
        "   - Konversi model ke format web untuk dijalankan di browser menggunakan JavaScript.\n",
        "   - Konversi dilakukan via CLI: `tensorflowjs_converter`.\n",
        "\n",
        "---\n",
        "\n",
        "## 🧠 Inti Utama\n",
        "\n",
        "- Model harus dikemas dengan baik sebelum dikirim ke lingkungan produksi.\n",
        "- Format penyimpanan memengaruhi kompatibilitas dan performa.\n",
        "- Pilih format tergantung pada **target deployment**:\n",
        "  - Server: SavedModel\n",
        "  - Mobile: TFLite\n",
        "  - Web: TF.js\n",
        "\n",
        "---\n",
        "\n",
        "## ✅ Kesimpulan\n",
        "\n",
        "Chapter ini menunjukkan bahwa model machine learning tidak hanya berhenti di training, tapi harus siap untuk dipakai dalam konteks real-world melalui deployment. TensorFlow menyediakan tools lengkap untuk menjembatani kebutuhan tersebut.\n"
      ],
      "metadata": {
        "id": "S4QOJOJC9-WJ"
      }
    },
    {
      "cell_type": "code",
      "execution_count": 1,
      "metadata": {
        "id": "sqTAcCV688ab",
        "colab": {
          "base_uri": "https://localhost:8080/"
        },
        "outputId": "f3609785-b6f6-469c-8a42-8c065949d49c"
      },
      "outputs": [
        {
          "output_type": "stream",
          "name": "stdout",
          "text": [
            "Downloading data from https://storage.googleapis.com/tensorflow/tf-keras-datasets/train-labels-idx1-ubyte.gz\n",
            "\u001b[1m29515/29515\u001b[0m \u001b[32m━━━━━━━━━━━━━━━━━━━━\u001b[0m\u001b[37m\u001b[0m \u001b[1m0s\u001b[0m 0us/step\n",
            "Downloading data from https://storage.googleapis.com/tensorflow/tf-keras-datasets/train-images-idx3-ubyte.gz\n",
            "\u001b[1m26421880/26421880\u001b[0m \u001b[32m━━━━━━━━━━━━━━━━━━━━\u001b[0m\u001b[37m\u001b[0m \u001b[1m0s\u001b[0m 0us/step\n",
            "Downloading data from https://storage.googleapis.com/tensorflow/tf-keras-datasets/t10k-labels-idx1-ubyte.gz\n",
            "\u001b[1m5148/5148\u001b[0m \u001b[32m━━━━━━━━━━━━━━━━━━━━\u001b[0m\u001b[37m\u001b[0m \u001b[1m0s\u001b[0m 0us/step\n",
            "Downloading data from https://storage.googleapis.com/tensorflow/tf-keras-datasets/t10k-images-idx3-ubyte.gz\n",
            "\u001b[1m4422102/4422102\u001b[0m \u001b[32m━━━━━━━━━━━━━━━━━━━━\u001b[0m\u001b[37m\u001b[0m \u001b[1m0s\u001b[0m 0us/step\n"
          ]
        },
        {
          "output_type": "stream",
          "name": "stderr",
          "text": [
            "/usr/local/lib/python3.11/dist-packages/keras/src/layers/reshaping/flatten.py:37: UserWarning: Do not pass an `input_shape`/`input_dim` argument to a layer. When using Sequential models, prefer using an `Input(shape)` object as the first layer in the model instead.\n",
            "  super().__init__(**kwargs)\n"
          ]
        },
        {
          "output_type": "stream",
          "name": "stdout",
          "text": [
            "Epoch 1/5\n",
            "\u001b[1m1688/1688\u001b[0m \u001b[32m━━━━━━━━━━━━━━━━━━━━\u001b[0m\u001b[37m\u001b[0m \u001b[1m8s\u001b[0m 3ms/step - accuracy: 0.7750 - loss: 0.6414 - val_accuracy: 0.8578 - val_loss: 0.3955\n",
            "Epoch 2/5\n",
            "\u001b[1m1688/1688\u001b[0m \u001b[32m━━━━━━━━━━━━━━━━━━━━\u001b[0m\u001b[37m\u001b[0m \u001b[1m8s\u001b[0m 3ms/step - accuracy: 0.8602 - loss: 0.3903 - val_accuracy: 0.8735 - val_loss: 0.3482\n",
            "Epoch 3/5\n",
            "\u001b[1m1688/1688\u001b[0m \u001b[32m━━━━━━━━━━━━━━━━━━━━\u001b[0m\u001b[37m\u001b[0m \u001b[1m6s\u001b[0m 3ms/step - accuracy: 0.8772 - loss: 0.3415 - val_accuracy: 0.8722 - val_loss: 0.3577\n",
            "Epoch 4/5\n",
            "\u001b[1m1688/1688\u001b[0m \u001b[32m━━━━━━━━━━━━━━━━━━━━\u001b[0m\u001b[37m\u001b[0m \u001b[1m5s\u001b[0m 3ms/step - accuracy: 0.8831 - loss: 0.3209 - val_accuracy: 0.8733 - val_loss: 0.3530\n",
            "Epoch 5/5\n",
            "\u001b[1m1688/1688\u001b[0m \u001b[32m━━━━━━━━━━━━━━━━━━━━\u001b[0m\u001b[37m\u001b[0m \u001b[1m4s\u001b[0m 2ms/step - accuracy: 0.8891 - loss: 0.3000 - val_accuracy: 0.8855 - val_loss: 0.3257\n",
            "Saved artifact at 'model_production_savedmodel'. The following endpoints are available:\n",
            "\n",
            "* Endpoint 'serve'\n",
            "  args_0 (POSITIONAL_ONLY): TensorSpec(shape=(None, 28, 28), dtype=tf.float32, name='keras_tensor')\n",
            "Output Type:\n",
            "  TensorSpec(shape=(None, 10), dtype=tf.float32, name=None)\n",
            "Captures:\n",
            "  136885083691664: TensorSpec(shape=(), dtype=tf.resource, name=None)\n",
            "  136885083694544: TensorSpec(shape=(), dtype=tf.resource, name=None)\n",
            "  136885083694736: TensorSpec(shape=(), dtype=tf.resource, name=None)\n",
            "  136885083694928: TensorSpec(shape=(), dtype=tf.resource, name=None)\n",
            "Saved artifact at '/tmp/tmpfca_b7g9'. The following endpoints are available:\n",
            "\n",
            "* Endpoint 'serve'\n",
            "  args_0 (POSITIONAL_ONLY): TensorSpec(shape=(None, 28, 28), dtype=tf.float32, name='keras_tensor')\n",
            "Output Type:\n",
            "  TensorSpec(shape=(None, 10), dtype=tf.float32, name=None)\n",
            "Captures:\n",
            "  136885083691664: TensorSpec(shape=(), dtype=tf.resource, name=None)\n",
            "  136885083694544: TensorSpec(shape=(), dtype=tf.resource, name=None)\n",
            "  136885083694736: TensorSpec(shape=(), dtype=tf.resource, name=None)\n",
            "  136885083694928: TensorSpec(shape=(), dtype=tf.resource, name=None)\n",
            "✅ Model berhasil dikonversi ke TFLite!\n"
          ]
        }
      ],
      "source": [
        "# ✅ Import Library\n",
        "import tensorflow as tf\n",
        "from tensorflow import keras\n",
        "import numpy as np\n",
        "\n",
        "# ===========================================\n",
        "# 🧠 Step 1: Latih Model Sederhana\n",
        "# ===========================================\n",
        "(X_train, y_train), (X_test, y_test) = keras.datasets.fashion_mnist.load_data()\n",
        "X_train, X_test = X_train / 255.0, X_test / 255.0\n",
        "\n",
        "model = keras.Sequential([\n",
        "    keras.layers.Flatten(input_shape=[28, 28]),\n",
        "    keras.layers.Dense(128, activation=\"relu\"),\n",
        "    keras.layers.Dense(10, activation=\"softmax\")\n",
        "])\n",
        "\n",
        "model.compile(loss=\"sparse_categorical_crossentropy\", optimizer=\"adam\", metrics=[\"accuracy\"])\n",
        "model.fit(X_train, y_train, epochs=5, validation_split=0.1)\n",
        "\n",
        "# ===========================================\n",
        "# 💾 Step 2: Simpan Model untuk Produksi (.keras dan SavedModel)\n",
        "# ===========================================\n",
        "model.save(\"model_production.keras\")  # Format Keras 3 (modern)\n",
        "\n",
        "# Untuk TensorFlow Serving atau TFLite: simpan dalam format SavedModel\n",
        "model.export(\"model_production_savedmodel\")  # hanya berlaku di Keras 3\n",
        "\n",
        "# ===========================================\n",
        "# 📦 Step 3: Konversi ke TFLite\n",
        "# ===========================================\n",
        "converter = tf.lite.TFLiteConverter.from_keras_model(model)\n",
        "tflite_model = converter.convert()\n",
        "\n",
        "with open(\"model.tflite\", \"wb\") as f:\n",
        "    f.write(tflite_model)\n",
        "\n",
        "print(\"✅ Model berhasil dikonversi ke TFLite!\")\n",
        "\n",
        "# ===========================================\n",
        "# 🌐 Step 4: Konversi ke TensorFlow.js (opsional, manual via CLI)\n",
        "# ===========================================\n",
        "# Jalankan secara lokal di terminal:\n",
        "# !pip install tensorflowjs\n",
        "# !tensorflowjs_converter --input_format keras model_production.keras tfjs_model/\n"
      ]
    }
  ]
}